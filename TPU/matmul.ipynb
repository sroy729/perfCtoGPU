{
 "cells": [
  {
   "cell_type": "code",
   "execution_count": null,
   "id": "e2dda726",
   "metadata": {
    "vscode": {
     "languageId": "plaintext"
    }
   },
   "outputs": [],
   "source": [
    "import torch\n",
    "import time\n",
    "\n",
    "def benchmark_matmul(max_pow=12, dtype=torch.float32):\n",
    "    if not torch.cuda.is_available():\n",
    "        raise RuntimeError(\"CUDA is not available!\")\n",
    "\n",
    "    device = torch.device(\"cuda\")\n",
    "    print(f\"\\nRunning on: {torch.cuda.get_device_name(device)}\\n\")\n",
    "\n",
    "    print(f\"{'Matrix Size (N x N)':>20} | {'Execution Time (ms)':>20}\")\n",
    "    print(\"-\" * 45)\n",
    "\n",
    "    for power in range(6, max_pow + 1):\n",
    "        N = 2 ** power\n",
    "\n",
    "        # Generate random matrices on GPU\n",
    "        A = torch.randn((N, N), dtype=dtype, device=device)\n",
    "        B = torch.randn((N, N), dtype=dtype, device=device)\n",
    "\n",
    "        # Warm-up to ensure fair timing\n",
    "        for _ in range(3):\n",
    "            _ = A @ B\n",
    "\n",
    "        # Use CUDA events for accurate GPU timing\n",
    "        start = torch.cuda.Event(enable_timing=True)\n",
    "        end = torch.cuda.Event(enable_timing=True)\n",
    "\n",
    "        start.record()\n",
    "        C = A @ B  # Matrix multiplication using cuBLAS\n",
    "        end.record()\n",
    "\n",
    "        # Wait for the events to complete\n",
    "        torch.cuda.synchronize()\n",
    "\n",
    "        # Measure elapsed time in milliseconds\n",
    "        elapsed_time_ms = start.elapsed_time(end)\n",
    "\n",
    "        print(f\"{N:>20} | {elapsed_time_ms:>20.3f}\")\n",
    "\n",
    "if __name__ == \"__main__\":\n",
    "    benchmark_matmul(max_pow=16)  # Runs for sizes from 64x64 up to 16384x16384\n"
   ]
  }
 ],
 "metadata": {
  "language_info": {
   "name": "python"
  }
 },
 "nbformat": 4,
 "nbformat_minor": 5
}
